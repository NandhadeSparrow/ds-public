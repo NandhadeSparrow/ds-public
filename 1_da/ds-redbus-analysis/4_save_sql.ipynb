{
 "cells": [
  {
   "cell_type": "code",
   "execution_count": 1,
   "metadata": {},
   "outputs": [],
   "source": [
    "import time\n",
    "from selenium import webdriver\n",
    "from selenium.webdriver.common.by import By\n",
    "from selenium.webdriver import Keys, ActionChains\n",
    "from selenium.webdriver.chrome.service import Service\n",
    "from selenium.webdriver.support.ui import WebDriverWait\n",
    "from selenium.webdriver.support import expected_conditions as EC\n",
    "import pandas as pd\n",
    "import sqlalchemy\n",
    "import csv\n",
    "from datetime import date, timedelta, datetime\n",
    "from utils.sql import sql, States, Routes, Buses\n"
   ]
  },
  {
   "cell_type": "code",
   "execution_count": 2,
   "metadata": {},
   "outputs": [],
   "source": [
    "session, engine = sql()"
   ]
  },
  {
   "cell_type": "code",
   "execution_count": 3,
   "metadata": {},
   "outputs": [],
   "source": [
    "States.__table__.drop(engine)\n",
    "Routes.__table__.drop(engine)\n",
    "Buses.__table__.drop(engine)\n",
    "session, engine = sql()"
   ]
  },
  {
   "cell_type": "code",
   "execution_count": 4,
   "metadata": {},
   "outputs": [],
   "source": [
    "def truncate_sql():\n",
    "    session.query(States).delete()\n",
    "    session.query(Routes).delete()\n",
    "    session.query(Buses).delete()\n",
    "    session.commit()"
   ]
  },
  {
   "cell_type": "code",
   "execution_count": 5,
   "metadata": {},
   "outputs": [],
   "source": [
    "truncate_sql()"
   ]
  },
  {
   "cell_type": "code",
   "execution_count": 6,
   "metadata": {},
   "outputs": [],
   "source": [
    "df_states = pd.read_csv('data_states.csv', encoding='latin1')\n",
    "df_routes = pd.read_csv('data_routes.csv', encoding='latin1')\n",
    "df_buses = pd.read_csv('data_buses.csv', encoding='latin1')"
   ]
  },
  {
   "cell_type": "code",
   "execution_count": 7,
   "metadata": {},
   "outputs": [],
   "source": [
    "from sqlalchemy.types import Integer, String, Float, DateTime, Date\n",
    "\n",
    "# Define column types\n",
    "dtype_dict = {\n",
    "    'bus_id': String(),\n",
    "    'bus_name': String(),\n",
    "    'bus_type': String(),\n",
    "    'dur': String(),\n",
    "    'date_dep': Date(),\n",
    "    'date_arrival': Date(),\n",
    "    'time_dep': DateTime(),\n",
    "    'time_arrival': DateTime(),\n",
    "    # 'star_rate': Float(),\n",
    "    'price': Integer(),\n",
    "    'seat_available': Integer(),\n",
    "    'route_name': String(),\n",
    "    'loc_dep': String(),\n",
    "    'loc_arrival': String(),\n",
    "    'operator': String(),\n",
    "\n",
    "}"
   ]
  },
  {
   "cell_type": "code",
   "execution_count": 8,
   "metadata": {},
   "outputs": [
    {
     "name": "stdout",
     "output_type": "stream",
     "text": [
      "<class 'pandas.core.frame.DataFrame'>\n",
      "RangeIndex: 28997 entries, 0 to 28996\n",
      "Data columns (total 15 columns):\n",
      " #   Column          Non-Null Count  Dtype  \n",
      "---  ------          --------------  -----  \n",
      " 0   bus_id          28997 non-null  int64  \n",
      " 1   bus_name        28997 non-null  object \n",
      " 2   bus_type        28997 non-null  object \n",
      " 3   dur             28997 non-null  object \n",
      " 4   date_dep        28997 non-null  object \n",
      " 5   date_arrival    28997 non-null  object \n",
      " 6   time_dep        28997 non-null  object \n",
      " 7   time_arrival    28997 non-null  object \n",
      " 8   star_rate       28494 non-null  float64\n",
      " 9   price           28997 non-null  float64\n",
      " 10  seat_available  28997 non-null  int64  \n",
      " 11  route_name      28997 non-null  object \n",
      " 12  loc_dep         28997 non-null  object \n",
      " 13  loc_arrival     28997 non-null  object \n",
      " 14  operator        28997 non-null  object \n",
      "dtypes: float64(2), int64(2), object(11)\n",
      "memory usage: 3.3+ MB\n"
     ]
    }
   ],
   "source": [
    "df_buses.info()"
   ]
  },
  {
   "cell_type": "code",
   "execution_count": 9,
   "metadata": {},
   "outputs": [
    {
     "data": {
      "text/plain": [
       "997"
      ]
     },
     "execution_count": 9,
     "metadata": {},
     "output_type": "execute_result"
    }
   ],
   "source": [
    "df_states.to_sql('states', engine, if_exists='replace', index=False, dtype=dtype_dict)\n",
    "df_routes.to_sql('routes', engine, if_exists='replace', index=False, dtype=dtype_dict)\n",
    "df_buses.to_sql('buses', engine, if_exists='replace', index=False, dtype=dtype_dict)"
   ]
  },
  {
   "cell_type": "code",
   "execution_count": 10,
   "metadata": {},
   "outputs": [],
   "source": [
    "# states = [States(**i) for i in df_states.values.tolist()]\n",
    "# routes = [Routes(**i) for i in df_routes.values.tolist()]\n",
    "# buses = [Buses(**i) for i in df_buses.values.tolist()]\n",
    "\n",
    "# session.add_all(states)\n",
    "# session.add_all(routes)\n",
    "# session.add_all(buses)\n",
    "\n",
    "# session.commit()"
   ]
  }
 ],
 "metadata": {
  "kernelspec": {
   "display_name": "Python 3",
   "language": "python",
   "name": "python3"
  },
  "language_info": {
   "codemirror_mode": {
    "name": "ipython",
    "version": 3
   },
   "file_extension": ".py",
   "mimetype": "text/x-python",
   "name": "python",
   "nbconvert_exporter": "python",
   "pygments_lexer": "ipython3",
   "version": "3.12.0"
  }
 },
 "nbformat": 4,
 "nbformat_minor": 2
}
