{
 "cells": [
  {
   "cell_type": "code",
   "execution_count": 2,
   "metadata": {},
   "outputs": [],
   "source": [
    "import time\n",
    "from selenium import webdriver\n",
    "from selenium.webdriver.common.by import By\n",
    "from selenium.webdriver import Keys, ActionChains\n",
    "from selenium.webdriver.chrome.service import Service\n",
    "from selenium.webdriver.support.ui import WebDriverWait\n",
    "from selenium.webdriver.support import expected_conditions as EC\n",
    "import pandas as pd\n",
    "import sqlalchemy\n",
    "import csv\n",
    "from datetime import date, timedelta, datetime"
   ]
  },
  {
   "cell_type": "code",
   "execution_count": null,
   "metadata": {},
   "outputs": [],
   "source": [
    "\n",
    "date_str = str(date.today())\n",
    "string_time = date_str + \" \" + details[detail_name][detail_i] + \":00\"\n",
    "time_object = datetime.strptime(string_time, '%Y-%m-%d %H:%M:%S')\n",
    "details[detail_name][detail_i] = str(time_object)"
   ]
  },
  {
   "cell_type": "code",
   "execution_count": 5,
   "metadata": {},
   "outputs": [
    {
     "name": "stdout",
     "output_type": "stream",
     "text": [
      "DatetimeIndex(['2024-08-10', '2024-08-11'], dtype='datetime64[ns]', freq=None)\n"
     ]
    }
   ],
   "source": [
    "import pandas as pd\n",
    "\n",
    "# Sample data\n",
    "dates = ['10 aug 2024', '11 Aug 2024']\n",
    "\n",
    "# Convert the strings to datetime objects\n",
    "converted_dates = pd.to_datetime(dates, format='%d-%b %Y')\n",
    "\n",
    "# Display the converted dates\n",
    "print(converted_dates)\n"
   ]
  },
  {
   "cell_type": "code",
   "execution_count": null,
   "metadata": {},
   "outputs": [],
   "source": [
    "df['date_column'] = pd.to_datetime(df['date_column'], format='%d-%b %Y')"
   ]
  },
  {
   "cell_type": "code",
   "execution_count": 2,
   "metadata": {},
   "outputs": [
    {
     "data": {
      "text/plain": [
       "'2024-08-09'"
      ]
     },
     "execution_count": 2,
     "metadata": {},
     "output_type": "execute_result"
    }
   ],
   "source": [
    "from datetime import date, timedelta\n",
    "str(date.today())"
   ]
  },
  {
   "cell_type": "code",
   "execution_count": 1,
   "metadata": {},
   "outputs": [
    {
     "name": "stderr",
     "output_type": "stream",
     "text": [
      "2024-08-11 10:34:24.119 \n",
      "  \u001b[33m\u001b[1mWarning:\u001b[0m to view this Streamlit app on a browser, run it with the following\n",
      "  command:\n",
      "\n",
      "    streamlit run C:\\Users\\Sparrow\\AppData\\Roaming\\Python\\Python312\\site-packages\\ipykernel_launcher.py [ARGUMENTS]\n"
     ]
    },
    {
     "data": {
      "text/plain": [
       "DeltaGenerator()"
      ]
     },
     "execution_count": 1,
     "metadata": {},
     "output_type": "execute_result"
    }
   ],
   "source": [
    "import streamlit as st\n",
    "import pandas as pd\n",
    "import altair as alt\n",
    "\n",
    "# Data\n",
    "data = {\n",
    "    'Type': ['nonsleeper', 'nonsleeper', 'sleeper', 'sleeper'],\n",
    "    'AC_Status': ['ac', 'nonac', 'ac', 'nonac'],\n",
    "    'Price': [115, 100, 345, 345]\n",
    "}\n",
    "\n",
    "df = pd.DataFrame(data)\n",
    "\n",
    "# Plotting the grouped bar chart using Altair\n",
    "chart = alt.Chart(df).mark_bar().encode(\n",
    "    x=alt.X('Type:N', title='Type'),\n",
    "    y=alt.Y('Price:Q', title='Price'),\n",
    "    color='AC_Status:N',\n",
    "    column='AC_Status:N'\n",
    ").properties(\n",
    "    width=alt.Step(40)  # controls width of bar\n",
    ")\n",
    "\n",
    "st.title(\"Grouped Bar Chart of Train Types and Prices\")\n",
    "\n",
    "# Display the chart in Streamlit\n",
    "st.altair_chart(chart, use_container_width=True)\n"
   ]
  },
  {
   "cell_type": "code",
   "execution_count": 4,
   "metadata": {},
   "outputs": [
    {
     "name": "stderr",
     "output_type": "stream",
     "text": [
      "C:\\Users\\Sparrow\\AppData\\Local\\Temp\\ipykernel_34780\\3446321723.py:39: UserWarning: FigureCanvasAgg is non-interactive, and thus cannot be shown\n",
      "  plt.show()\n"
     ]
    }
   ],
   "source": [
    "import streamlit as st\n",
    "import pandas as pd\n",
    "import altair as alt\n",
    "\n",
    "import numpy as np  \n",
    "import matplotlib.pyplot as plt  \n",
    "  \n",
    "# Sample Data\n",
    "data = {\n",
    "    'busid': [1, 2, 3, 4, 5, 6, 7, 8],\n",
    "    'rating': [4.2, 3.8, 4.5, 4.0, 3.5, 4.7, 4.0, 3.9],\n",
    "    'operator': ['govt', 'private', 'govt', 'private', 'govt', 'private', 'govt', 'private']\n",
    "}\n",
    "\n",
    "df = pd.DataFrame(data)\n",
    "# Calculate bus count and average rating\n",
    "summary_df = df.groupby('operator').agg(\n",
    "    bus_count=('busid', 'count'),\n",
    "    avg_rating=('rating', 'mean')\n",
    ").reset_index()\n",
    "\n",
    "# Melt the DataFrame to have 'metric' column for bar chart\n",
    "melted_df = summary_df.melt(id_vars='operator', var_name='metric', value_name='value')\n",
    "\n",
    "# print(df)\n",
    "# print(summary_df)\n",
    "# print(melted_df)\n",
    "\n",
    "X_axis = np.arange(len(summary_df['operator'])) \n",
    "  \n",
    "plt.bar(X_axis - 0.2, summary_df['bus_count'], 0.4, label = 'govt') \n",
    "plt.bar(X_axis + 0.2, summary_df['avg_rating'], 0.4, label = 'private') \n",
    "  \n",
    "plt.xticks(X_axis, summary_df['operator']) \n",
    "plt.xlabel(\"Groups\") \n",
    "plt.ylabel(\"Number of Students\") \n",
    "plt.title(\"Number of Students in each group\") \n",
    "plt.legend() \n",
    "plt.show() "
   ]
  },
  {
   "cell_type": "code",
   "execution_count": 6,
   "metadata": {},
   "outputs": [],
   "source": [
    "import numpy as np \n",
    "import matplotlib.pyplot as plt \n",
    "\n",
    "N = 3\n",
    "ind = np.arange(N) \n",
    "width = 0.25\n",
    "\n",
    "xvals = [8, 9, 2] \n",
    "bar1 = plt.bar(ind, xvals, width, color='r') \n",
    "\n",
    "yvals = [10, 20, 30] \n",
    "bar2 = plt.bar(ind+width, yvals, width, color='g') \n",
    "\n",
    "zvals = [11, 12, 13] \n",
    "bar3 = plt.bar(ind+width*2, zvals, width, color='b') \n",
    "\n",
    "plt.xlabel(\"Dates\") \n",
    "plt.ylabel('Scores') \n",
    "plt.title(\"Players Score\") \n",
    "\n",
    "plt.xticks(ind+width, ['2021Feb01', '2021Feb02', '2021Feb03']) \n",
    "plt.legend((bar1, bar2, bar3), ('Player1', 'Player2', 'Player3'))\n",
    "\n",
    "# Save the plot to a file\n",
    "plt.savefig('players_score.png')\n",
    "\n",
    "# Optionally, display the plot using another library\n",
    "from PIL import Image\n",
    "img = Image.open('players_score.png')\n",
    "img.show()\n"
   ]
  },
  {
   "cell_type": "code",
   "execution_count": null,
   "metadata": {},
   "outputs": [],
   "source": [
    "def bus_operator_plot(col, engine, query_filter, title):\n",
    "    col.markdown(f'### {title}')\n",
    "\n",
    "    sql_query_type_analysis = '''\n",
    "    WITH pre_table AS (\n",
    "        ''' + query_filter + ''' )\n",
    "        SELECT \n",
    "            operator, \n",
    "            COUNT(bus_id) AS bus_count, \n",
    "            AVG(star_rate) AS avg_rating\n",
    "        FROM \n",
    "            pre_table\n",
    "        GROUP BY \n",
    "            operator;\n",
    "    '''\n",
    "\n",
    "    '''\n",
    "    govt - pvt\n",
    "    - bus count\n",
    "    - average rating\n",
    "    - avg price\n",
    "    - sleeper perc\n",
    "    - ac perc\n",
    "    '''\n",
    "\n",
    "    stmt = text(sql_query_type_analysis)\n",
    "    with engine.connect() as connection: res = connection.execute(stmt)\n",
    "    df_op_analysis = pd.DataFrame(res.fetchall(), columns=res.keys()) \n",
    "    col.write(df_op_analysis)\n",
    "\n",
    "    X_axis = np.arange(len(df_op_analysis['operator']))  # X-axis positions\n",
    "    bar_width = 0.15\n",
    "    b1 = plt.bar(X_axis - 2*bar_width, df_op_analysis['bus_count'], bar_width, label='Bus Count')\n",
    "    b2 = plt.bar(X_axis - bar_width, df_op_analysis['avg_rating'], bar_width, label='Avg Rating')\n",
    "    b3 = plt.bar(X_axis - bar_width, df_op_analysis['avg_rating'], bar_width, label='Avg Rating')\n",
    "    b4 = plt.bar(X_axis - bar_width, df_op_analysis['avg_rating'], bar_width, label='Avg Rating')\n",
    "    b5 = plt.bar(X_axis - bar_width, df_op_analysis['avg_rating'], bar_width, label='Avg Rating')\n",
    "    \n",
    "    plt.xticks(X_axis, df_op_analysis['operator'])\n",
    "    plt.xlabel(\"Operator\")\n",
    "    plt.ylabel(\"Value\")\n",
    "    plt.title(f'{title}')\n",
    "    plt.legend((b1, b2, b3, b4, b5), ('bus_count', 'avg_rating', 'avg_price', 'sleeper', 'ac'))\n",
    "    st.pyplot(plt)\n"
   ]
  },
  {
   "cell_type": "code",
   "execution_count": 1,
   "metadata": {},
   "outputs": [
    {
     "ename": "SyntaxError",
     "evalue": "invalid syntax (1087368757.py, line 1)",
     "output_type": "error",
     "traceback": [
      "\u001b[1;36m  Cell \u001b[1;32mIn[1], line 1\u001b[1;36m\u001b[0m\n\u001b[1;33m    https://www.redbus.in/bus-tickets/kollam-to-virudhnagar?fromCityName=Kollam&fromCityId=212&srcCountry=IND&toCityName=Virudhnagar&toCityId=292&destCountry=IND&onward=11-Aug-2024&opId=0&busType=Any\u001b[0m\n\u001b[1;37m          ^\u001b[0m\n\u001b[1;31mSyntaxError\u001b[0m\u001b[1;31m:\u001b[0m invalid syntax\n"
     ]
    }
   ],
   "source": [
    "https://www.redbus.in/bus-tickets/kollam-to-virudhnagar?fromCityId=212&toCityId=292&onward=12-Aug-2024\n",
    "https://www.redbus.in/bus-tickets/kollam-to-virudhnagar?fromCityId=212&toCityId=292&fromCityName=Kollam&toCityName=Virudhnagar&busType=Any&srcCountry=IND&destCountry=IND&onward=11-Aug-2024&onward=12-Aug-2024"
   ]
  },
  {
   "cell_type": "code",
   "execution_count": 3,
   "metadata": {},
   "outputs": [],
   "source": [
    "from selenium import webdriver\n",
    "driver = webdriver.Chrome()\n",
    "driver.get('https://www.redbus.in/bus-tickets/kollam-to-virudhnagar')\n",
    "current_url = driver.current_url\n",
    "driver.get(current_url + '&onward=12-Aug-2024')"
   ]
  },
  {
   "cell_type": "code",
   "execution_count": null,
   "metadata": {},
   "outputs": [],
   "source": [
    "SELECT\n",
    "            CASE\n",
    "                WHEN LOWER(pre_table.bus_type) LIKE '%sleeper%' \n",
    "                    THEN 'Sleeper'\n",
    "                ELSE 'Non Sleeper'\n",
    "            END AS sleeper,\n",
    "            CASE\n",
    "                WHEN pre_table.bus_type LIKE '%AC%' AND pre_table.bus_type NOT LIKE '%NON AC%'\n",
    "                    THEN 'AC'\n",
    "                ELSE 'Non AC'\n",
    "            END AS ac,\n",
    "            pre_table.operator,\n",
    "            COUNT(*) AS count\n",
    "        FROM pre_table\n",
    "        GROUP BY sleeper, ac, pre_table.operator"
   ]
  },
  {
   "cell_type": "code",
   "execution_count": null,
   "metadata": {},
   "outputs": [],
   "source": [
    "SELECT \n",
    "            CASE \n",
    "                WHEN LOWER(pre_table.bus_type) LIKE '%sleeper%' THEN 'Sleeper' \n",
    "                ELSE 'Non Sleeper' \n",
    "            END AS sleeper, \n",
    "            SUM(CASE \n",
    "                WHEN pre_table.bus_type LIKE '%AC%' AND pre_table.bus_type \n",
    "                    NOT LIKE '%NON AC%' THEN 1 \n",
    "                ELSE 0 \n",
    "            END) AS ac_count,\n",
    "            SUM(CASE \n",
    "                WHEN pre_table.bus_type LIKE '%NON AC%' THEN 1 \n",
    "                ELSE 0 \n",
    "            END) AS non_ac_count,\n",
    "            pre_table.operator\n",
    "        FROM pre_table \n",
    "        GROUP BY sleeper, pre_table.operator"
   ]
  },
  {
   "cell_type": "code",
   "execution_count": 1,
   "metadata": {},
   "outputs": [
    {
     "ename": "NameError",
     "evalue": "name 'col' is not defined",
     "output_type": "error",
     "traceback": [
      "\u001b[1;31m---------------------------------------------------------------------------\u001b[0m",
      "\u001b[1;31mNameError\u001b[0m                                 Traceback (most recent call last)",
      "Cell \u001b[1;32mIn[1], line 26\u001b[0m\n\u001b[0;32m     14\u001b[0m chart \u001b[38;5;241m=\u001b[39m alt\u001b[38;5;241m.\u001b[39mChart(df)\u001b[38;5;241m.\u001b[39mmark_bar()\u001b[38;5;241m.\u001b[39mencode(\n\u001b[0;32m     15\u001b[0m     x\u001b[38;5;241m=\u001b[39m\u001b[38;5;124m'\u001b[39m\u001b[38;5;124mcategory1:N\u001b[39m\u001b[38;5;124m'\u001b[39m,\n\u001b[0;32m     16\u001b[0m     y\u001b[38;5;241m=\u001b[39m\u001b[38;5;124m'\u001b[39m\u001b[38;5;124mvalue:Q\u001b[39m\u001b[38;5;124m'\u001b[39m,\n\u001b[1;32m   (...)\u001b[0m\n\u001b[0;32m     22\u001b[0m     height\u001b[38;5;241m=\u001b[39m\u001b[38;5;241m200\u001b[39m\n\u001b[0;32m     23\u001b[0m )\u001b[38;5;241m.\u001b[39minteractive()\n\u001b[0;32m     25\u001b[0m \u001b[38;5;66;03m# Display the chart\u001b[39;00m\n\u001b[1;32m---> 26\u001b[0m \u001b[43mcol\u001b[49m\u001b[38;5;241m.\u001b[39maltair_chart(chart)\n",
      "\u001b[1;31mNameError\u001b[0m: name 'col' is not defined"
     ]
    }
   ],
   "source": [
    "import altair as alt\n",
    "import pandas as pd\n",
    "\n",
    "# Sample DataFrame\n",
    "data = {\n",
    "    'category1': ['A', 'A', 'B', 'B', 'C', 'C'],\n",
    "    'category2': ['X', 'Y', 'X', 'Y', 'X', 'Y'],\n",
    "    'category3': ['M', 'N', 'M', 'N', 'M', 'N'],\n",
    "    'value': [10, 20, 15, 25, 30, 35]\n",
    "}\n",
    "df = pd.DataFrame(data)\n",
    "\n",
    "# Create the chart\n",
    "chart = alt.Chart(df).mark_bar().encode(\n",
    "    x='category1:N',\n",
    "    y='value:Q',\n",
    "    color='category2:N',\n",
    "    row='category3:N',\n",
    "    tooltip=['category1:N', 'category2:N', 'category3:N', 'value:Q']\n",
    ").properties(\n",
    "    width=150,\n",
    "    height=200\n",
    ").interactive()\n",
    "\n",
    "# Display the chart\n",
    "col.altair_chart(chart)\n"
   ]
  }
 ],
 "metadata": {
  "kernelspec": {
   "display_name": "Python 3",
   "language": "python",
   "name": "python3"
  },
  "language_info": {
   "codemirror_mode": {
    "name": "ipython",
    "version": 3
   },
   "file_extension": ".py",
   "mimetype": "text/x-python",
   "name": "python",
   "nbconvert_exporter": "python",
   "pygments_lexer": "ipython3",
   "version": "3.12.0"
  }
 },
 "nbformat": 4,
 "nbformat_minor": 2
}
