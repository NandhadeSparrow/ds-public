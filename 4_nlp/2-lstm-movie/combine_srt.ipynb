{
 "cells": [
  {
   "cell_type": "code",
   "execution_count": 19,
   "metadata": {},
   "outputs": [
    {
     "name": "stdout",
     "output_type": "stream",
     "text": [
      "Processed lines have been saved to dialogues.txt.\n"
     ]
    }
   ],
   "source": [
    "import os\n",
    "import re\n",
    "\n",
    "# Define the folder path\n",
    "folder_path = 'subs'\n",
    "\n",
    "# Initialize a variable to store processed lines\n",
    "processed_lines = []\n",
    "\n",
    "# Function to try reading the file with different encodings\n",
    "def read_file_with_fallback(file_path):\n",
    "    try:\n",
    "        with open(file_path, 'r', encoding='utf-8') as file:\n",
    "            return file.readlines()\n",
    "    except UnicodeDecodeError:\n",
    "        with open(file_path, 'r', encoding='latin-1') as file:\n",
    "            return file.readlines()\n",
    "\n",
    "# Iterate over all files in the folder\n",
    "for filename in os.listdir(folder_path):\n",
    "    if filename.endswith('.srt'):\n",
    "        # Build the full file path\n",
    "        file_path = os.path.join(folder_path, filename)\n",
    "        \n",
    "        # Read the file with encoding fallback\n",
    "        lines = read_file_with_fallback(file_path)\n",
    "        \n",
    "        # Process each line\n",
    "        for line in lines:\n",
    "            line = line.strip()\n",
    "            if line and line[0].isalpha():  # Ensure line starts with an alphabetic character\n",
    "                # Split the line by full stops, retaining the delimiter\n",
    "                split_lines = re.split(r'(?<=[.!?])\\s+', line)\n",
    "                \n",
    "                # Handle combining lines that don't end with punctuation\n",
    "                for i in range(len(split_lines)):\n",
    "                    if processed_lines and not processed_lines[-1].endswith(('.', '!', '?')):\n",
    "                        processed_lines[-1] += ' ' + split_lines[i]\n",
    "                    else:\n",
    "                        processed_lines.append(split_lines[i])\n",
    "\n",
    "# Combine processed lines into a single string with line breaks\n",
    "combined_text = '\\n'.join(processed_lines)\n",
    "\n",
    "# Define the output file path\n",
    "output_file_path = 'dialogues.txt'\n",
    "\n",
    "# Save the combined text to the new file\n",
    "with open(output_file_path, 'w', encoding='utf-8') as output_file:\n",
    "    output_file.write(combined_text)\n",
    "\n",
    "print(f\"Processed lines have been saved to {output_file_path}.\")\n"
   ]
  }
 ],
 "metadata": {
  "kernelspec": {
   "display_name": "Python 3",
   "language": "python",
   "name": "python3"
  },
  "language_info": {
   "codemirror_mode": {
    "name": "ipython",
    "version": 3
   },
   "file_extension": ".py",
   "mimetype": "text/x-python",
   "name": "python",
   "nbconvert_exporter": "python",
   "pygments_lexer": "ipython3",
   "version": "3.12.0"
  }
 },
 "nbformat": 4,
 "nbformat_minor": 2
}
