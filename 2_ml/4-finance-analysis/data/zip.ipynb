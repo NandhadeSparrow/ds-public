{
 "cells": [
  {
   "cell_type": "markdown",
   "metadata": {},
   "source": [
    "put this tool inside 'data' folder\n",
    "move large files to 'decompressed' folder inside 'data'"
   ]
  },
  {
   "cell_type": "code",
   "execution_count": 4,
   "metadata": {},
   "outputs": [
    {
     "name": "stdout",
     "output_type": "stream",
     "text": [
      "Compressed application_data.csv into compressed\\application_data.csv.7z\n",
      "Compressed previous_application.csv into compressed\\previous_application.csv.7z\n"
     ]
    }
   ],
   "source": [
    "import os\n",
    "import py7zr\n",
    "\n",
    "def compress_files(input_folder, output_folder):\n",
    "    os.makedirs(output_folder, exist_ok=True)\n",
    "\n",
    "    for filename in os.listdir(input_folder):\n",
    "        file_path = os.path.join(input_folder, filename)\n",
    "\n",
    "        if os.path.isfile(file_path):\n",
    "            seven_zip_file_path = os.path.join(output_folder, f\"{filename}.7z\")\n",
    "\n",
    "            with py7zr.SevenZipFile(seven_zip_file_path, 'w') as archive:\n",
    "                archive.write(file_path, arcname=filename)\n",
    "\n",
    "            print(f\"Compressed {filename} into {seven_zip_file_path}\")\n",
    "\n",
    "# Example usage\n",
    "compress_files('decompressed', 'compressed')\n"
   ]
  },
  {
   "cell_type": "markdown",
   "metadata": {},
   "source": [
    "put compressed files inside 'compressed' folder inside 'data'"
   ]
  },
  {
   "cell_type": "code",
   "execution_count": 5,
   "metadata": {},
   "outputs": [
    {
     "name": "stdout",
     "output_type": "stream",
     "text": [
      "Files decompressed into decompressed\n",
      "Files decompressed into decompressed\n",
      ".gitignore file created at decompressed\n"
     ]
    }
   ],
   "source": [
    "import os\n",
    "import py7zr\n",
    "\n",
    "def decompress_files(input_folder, output_folder):\n",
    "    os.makedirs(output_folder, exist_ok=True)\n",
    "\n",
    "    for filename in os.listdir(input_folder):\n",
    "        file_path = os.path.join(input_folder, filename)\n",
    "\n",
    "        if os.path.isfile(file_path):\n",
    "            with py7zr.SevenZipFile(file_path, mode='r') as archive:\n",
    "                archive.extractall(path=output_folder)\n",
    "            print(f\"Files decompressed into {output_folder}\")\n",
    "\n",
    "\n",
    "\n",
    "    content = \"*\\n!.gitignore\\n\"\n",
    "    with open(output_folder+'/.gitignore', 'w') as file:\n",
    "        file.write(content)\n",
    "    print(f\".gitignore file created at {output_folder}\")\n",
    "\n",
    "# Example usage\n",
    "decompress_files('compressed', 'decompressed')"
   ]
  }
 ],
 "metadata": {
  "kernelspec": {
   "display_name": "Python 3",
   "language": "python",
   "name": "python3"
  },
  "language_info": {
   "codemirror_mode": {
    "name": "ipython",
    "version": 3
   },
   "file_extension": ".py",
   "mimetype": "text/x-python",
   "name": "python",
   "nbconvert_exporter": "python",
   "pygments_lexer": "ipython3",
   "version": "3.12.0"
  }
 },
 "nbformat": 4,
 "nbformat_minor": 2
}
