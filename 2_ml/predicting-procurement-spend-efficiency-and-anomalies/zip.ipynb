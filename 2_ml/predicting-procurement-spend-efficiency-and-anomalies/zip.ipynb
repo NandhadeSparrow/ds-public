{
 "cells": [
  {
   "cell_type": "code",
   "execution_count": 10,
   "metadata": {},
   "outputs": [
    {
     "name": "stdout",
     "output_type": "stream",
     "text": [
      "Compressed firstfile.csv into data/compressed\\firstfile.csv.7z\n",
      "Compressed Sales.csv into data/compressed\\Sales.csv.7z\n"
     ]
    }
   ],
   "source": [
    "import os\n",
    "import py7zr\n",
    "\n",
    "def compress_files(input_folder, output_folder):\n",
    "    os.makedirs(output_folder, exist_ok=True)\n",
    "\n",
    "    for filename in os.listdir(input_folder):\n",
    "        file_path = os.path.join(input_folder, filename)\n",
    "\n",
    "        if os.path.isfile(file_path):\n",
    "            seven_zip_file_path = os.path.join(output_folder, f\"{filename}.7z\")\n",
    "\n",
    "            with py7zr.SevenZipFile(seven_zip_file_path, 'w') as archive:\n",
    "                archive.write(file_path, arcname=filename)\n",
    "\n",
    "            print(f\"Compressed {filename} into {seven_zip_file_path}\")\n",
    "\n",
    "# Example usage\n",
    "compress_files('data/env', 'data/compressed')\n"
   ]
  },
  {
   "cell_type": "code",
   "execution_count": 11,
   "metadata": {},
   "outputs": [
    {
     "name": "stdout",
     "output_type": "stream",
     "text": [
      "Files decompressed into data/decompressed\n",
      "Files decompressed into data/decompressed\n"
     ]
    }
   ],
   "source": [
    "import os\n",
    "import py7zr\n",
    "\n",
    "def decompress_files(input_folder, output_folder):\n",
    "    os.makedirs(output_folder, exist_ok=True)\n",
    "\n",
    "    for filename in os.listdir(input_folder):\n",
    "        file_path = os.path.join(input_folder, filename)\n",
    "\n",
    "        if os.path.isfile(file_path):\n",
    "            with py7zr.SevenZipFile(file_path, mode='r') as archive:\n",
    "                archive.extractall(path=output_folder)\n",
    "            print(f\"Files decompressed into {output_folder}\")\n",
    "\n",
    "# Example usage\n",
    "decompress_files('data/compressed', 'data/env')"
   ]
  }
 ],
 "metadata": {
  "kernelspec": {
   "display_name": "Python 3",
   "language": "python",
   "name": "python3"
  },
  "language_info": {
   "codemirror_mode": {
    "name": "ipython",
    "version": 3
   },
   "file_extension": ".py",
   "mimetype": "text/x-python",
   "name": "python",
   "nbconvert_exporter": "python",
   "pygments_lexer": "ipython3",
   "version": "3.12.0"
  }
 },
 "nbformat": 4,
 "nbformat_minor": 2
}
